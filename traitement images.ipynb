{
 "cells": [
  {
   "cell_type": "code",
   "execution_count": 1,
   "id": "3e1e3fc3-0763-47e2-ad59-64d11612f078",
   "metadata": {},
   "outputs": [],
   "source": [
    "#!pip install easygui"
   ]
  },
  {
   "cell_type": "code",
   "execution_count": 1,
   "id": "0bb05502-ebb4-4400-88f8-1a3c11bab224",
   "metadata": {},
   "outputs": [],
   "source": [
    "from PIL import Image # Pour la gestion des images\n",
    "\n",
    "import easygui # Pour ouvrir automatiquement en cliquant  dans une fenêtre de l'explorateur (pas besoin d'indiquer un nom ni un chemin)"
   ]
  },
  {
   "cell_type": "markdown",
   "id": "134d5d09-82d4-4916-a9f7-cddc6f9ac5a0",
   "metadata": {},
   "source": [
    "#ouvrir l'image avec l'assistant"
   ]
  },
  {
   "cell_type": "code",
   "execution_count": null,
   "id": "3ad56756-0726-4ce1-bd79-4fd6a988dbcc",
   "metadata": {},
   "outputs": [],
   "source": [
    "myimg = Image.open(easygui.fileopenbox())\n",
    "\n",
    "#Voir l'image\n",
    "\n",
    "myimg.show()"
   ]
  },
  {
   "cell_type": "code",
   "execution_count": null,
   "id": "78f40e46-1c76-468b-8450-f05164c37451",
   "metadata": {},
   "outputs": [],
   "source": [
    "#La voir dans une fenêtre graphique"
   ]
  },
  {
   "cell_type": "code",
   "execution_count": null,
   "id": "40f409e9-cb0a-4b6d-bcf0-19811d75ed43",
   "metadata": {},
   "outputs": [],
   "source": [
    "import matplotlib.pyplot as plt\n",
    "\n",
    "plt.imshow(myimg)\n",
    "plt.show()"
   ]
  },
  {
   "cell_type": "code",
   "execution_count": null,
   "id": "68090ac9-a591-4dc3-bee9-7a50e61ad2c6",
   "metadata": {},
   "outputs": [],
   "source": []
  },
  {
   "cell_type": "code",
   "execution_count": null,
   "id": "71ccf8d6-c1a0-4602-bd34-2bec23b24515",
   "metadata": {},
   "outputs": [],
   "source": [
    "# Convertir l'image au format numpy et la décrire"
   ]
  },
  {
   "cell_type": "code",
   "execution_count": null,
   "id": "f618c0c6-1ac5-4116-a5f4-734df824a4bc",
   "metadata": {},
   "outputs": [],
   "source": [
    "import numpy as np\n",
    "\n",
    "img = np.array(myimg)\n",
    "\n",
    "plt.imshow(img)\n",
    "plt.show() # On peut continuer à utiliser la fonction imshow pour visualiser l'image même au format numpy"
   ]
  },
  {
   "cell_type": "code",
   "execution_count": 5,
   "id": "49578b87-3a29-4ece-90f6-16feb99143c1",
   "metadata": {},
   "outputs": [
    {
     "name": "stdout",
     "output_type": "stream",
     "text": [
      "Dimensions de l'image :  (1172, 1918, 3)\n"
     ]
    }
   ],
   "source": [
    "# Dimensions x, y et nombre de couleurs\n",
    "print(\"Dimensions de l'image : \",img.shape) "
   ]
  },
  {
   "cell_type": "code",
   "execution_count": 6,
   "id": "ac92b4e8-1638-43c2-a616-da13cb1d8996",
   "metadata": {},
   "outputs": [
    {
     "name": "stdout",
     "output_type": "stream",
     "text": [
      "Pixel 500 sur 200 :  [106 112 110]\n",
      "Composante rouge de ce dernier pixel : 106\n"
     ]
    }
   ],
   "source": [
    "print(\"Pixel 500 sur 200 : \",img[200,500])\n",
    "\n",
    "print(\"Composante rouge de ce dernier pixel :\",img[200,500][0])"
   ]
  },
  {
   "cell_type": "code",
   "execution_count": 7,
   "id": "27a7704b-25c9-4ad6-ba64-c50502463771",
   "metadata": {},
   "outputs": [
    {
     "name": "stdout",
     "output_type": "stream",
     "text": [
      "Rouge :  [[ 83  83  83 ...  84  80  73]\n",
      " [ 86  85  84 ...  84  78  72]\n",
      " [ 87  85  83 ...  81  74  71]\n",
      " ...\n",
      " [ 81  56  42 ...  43  57  61]\n",
      " [105  90  77 ...  36  55  55]\n",
      " [130 127 124 ...  30  48  39]]\n"
     ]
    }
   ],
   "source": [
    "# Tous le rouge de tous les pixels\n",
    "\n",
    "print(\"Rouge : \",img[:,:,0])"
   ]
  },
  {
   "cell_type": "code",
   "execution_count": null,
   "id": "514b73a8-9828-4d12-99f1-f191088b8d27",
   "metadata": {},
   "outputs": [],
   "source": []
  },
  {
   "cell_type": "code",
   "execution_count": null,
   "id": "26643cc2-565a-4525-a39a-7346b28fa235",
   "metadata": {},
   "outputs": [],
   "source": [
    "# Convertir les composantes rouge, vert et bleu en dataframe"
   ]
  },
  {
   "cell_type": "code",
   "execution_count": null,
   "id": "a2ba547c-2b45-4c4d-b2a2-a2ecec44a9b3",
   "metadata": {},
   "outputs": [],
   "source": [
    "red = np.reshape(img[:,:,0],img.shape[0]*img.shape[1])\n",
    "\n",
    "green = np.reshape(img[:,:,1],img.shape[0]*img.shape[1])\n",
    "\n",
    "blue = np.reshape(img[:,:,2],img.shape[0]*img.shape[1])\n",
    "\n",
    "from pandas import *\n",
    "\n",
    "couleurs = DataFrame({\"r\":red,\"g\":green,\"b\":blue})\n",
    "\n",
    "print(couleurs.head(10))"
   ]
  },
  {
   "cell_type": "code",
   "execution_count": null,
   "id": "329256ef-4620-4f85-b746-3b45252a8819",
   "metadata": {},
   "outputs": [],
   "source": [
    "#Réaliser des transformations sur ces composantes (exemples)"
   ]
  },
  {
   "cell_type": "code",
   "execution_count": null,
   "id": "7ebd9e27-afc5-46f2-bafa-4743e134fba4",
   "metadata": {},
   "outputs": [],
   "source": [
    "couleurs = couleurs + 30 # j'éclaircis tout de 30 niveau sur 255\n",
    "\n",
    "couleurs.r = round(couleurs.r/3,0) # Je divise par 3 les valeurs de rouge"
   ]
  },
  {
   "cell_type": "code",
   "execution_count": null,
   "id": "c54d52e8-f62a-4c98-8e6b-7add41c90d9c",
   "metadata": {},
   "outputs": [],
   "source": [
    "# Fabriquer une nouvelle image à partir des composantes rouge, vert bleu retravaillée"
   ]
  },
  {
   "cell_type": "code",
   "execution_count": null,
   "id": "50b521ee-6295-4516-bf18-ad9fb26b9327",
   "metadata": {},
   "outputs": [],
   "source": [
    "img1 = img.copy()\n",
    "\n",
    "red = np.reshape(np.array(couleurs.r),(img.shape[0],img.shape[1]))\n",
    "\n",
    "green = np.reshape(np.array(couleurs.g),(img.shape[0],img.shape[1]))\n",
    "\n",
    "blue = np.reshape(np.array(couleurs.b),(img.shape[0],img.shape[1]))\n",
    "\n",
    "img1[:,:,0] = red\n",
    "\n",
    "img1[:,:,1] = green\n",
    "\n",
    "img1[:,:,2] = blue"
   ]
  },
  {
   "cell_type": "code",
   "execution_count": null,
   "id": "d25a4cd9-0ff3-411b-89b6-3c9672232db5",
   "metadata": {},
   "outputs": [],
   "source": [
    "#Afficher comparer l'image avant après"
   ]
  },
  {
   "cell_type": "code",
   "execution_count": null,
   "id": "de50950b-3dd1-4b7a-8917-efd8f262d33a",
   "metadata": {},
   "outputs": [],
   "source": [
    "plt.subplot(121)\n",
    "\n",
    "plt.imshow(img) \n",
    "\n",
    "plt.subplot(122)\n",
    "\n",
    "plt.imshow(img1) ; plt.show()"
   ]
  },
  {
   "cell_type": "code",
   "execution_count": null,
   "id": "e168b26f-cabd-440a-b713-4512750729ee",
   "metadata": {},
   "outputs": [],
   "source": [
    "#Une fonction pour faciliter l'affichage en basculant automatiquement en fonction du fait que l'image est en couleur ou en niveau de gris"
   ]
  },
  {
   "cell_type": "code",
   "execution_count": null,
   "id": "8cc751c2-79dc-484a-ad04-a89b6b8008c0",
   "metadata": {},
   "outputs": [],
   "source": [
    "def display(img,cmap='gray') :\n",
    "\n",
    "    if (len(img.shape) == 3) :\n",
    "\n",
    "       fig, ax = plt.subplots(figsize=(15, 12)) \n",
    "\n",
    "       plt.imshow(img) ; plt.show()\n",
    "\n",
    "    else :\n",
    "\n",
    "       fig, ax = plt.subplots(figsize=(15, 12)) \n",
    "\n",
    "       plt.imshow(img,cmap=cmap, vmin=0, vmax=255) ; plt.show()"
   ]
  },
  {
   "cell_type": "code",
   "execution_count": null,
   "id": "1404ed2f-57ab-46c6-a8fb-0b2d78d1089f",
   "metadata": {},
   "outputs": [],
   "source": [
    "#Une fonction pour convertir une image en niveau de gris\n",
    "\n",
    "###############################\n",
    "\n",
    "#   NiVEAU DE GRIS\n",
    "\n",
    "###############################"
   ]
  },
  {
   "cell_type": "code",
   "execution_count": null,
   "id": "d5e06833-73f3-45b0-9dd2-17500ce95bae",
   "metadata": {},
   "outputs": [],
   "source": [
    "def gray_scale_img(img) :\n",
    "\n",
    "    temp_img = img[:,:,1]\n",
    "\n",
    "    temp_img = temp_img.reshape(temp_img.shape[0],temp_img.shape[1])\n",
    "\n",
    "    temp_img[:,:] <- img[:,:,0]*0.2126+img[:,:,1]*0.7152+img[:,:,2]*0.0722\n",
    "\n",
    "    return(temp_img)\n",
    "\n",
    "img_grey = gray_scale_img(img)\n",
    "display(img_grey)"
   ]
  }
 ],
 "metadata": {
  "kernelspec": {
   "display_name": "Python 3 (ipykernel)",
   "language": "python",
   "name": "python3"
  },
  "language_info": {
   "codemirror_mode": {
    "name": "ipython",
    "version": 3
   },
   "file_extension": ".py",
   "mimetype": "text/x-python",
   "name": "python",
   "nbconvert_exporter": "python",
   "pygments_lexer": "ipython3",
   "version": "3.12.2"
  }
 },
 "nbformat": 4,
 "nbformat_minor": 5
}
